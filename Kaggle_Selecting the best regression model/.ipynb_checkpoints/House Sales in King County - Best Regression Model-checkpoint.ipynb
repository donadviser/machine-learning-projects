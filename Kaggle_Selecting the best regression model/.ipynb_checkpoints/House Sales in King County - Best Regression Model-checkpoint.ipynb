{
 "cells": [
  {
   "cell_type": "code",
   "execution_count": null,
   "id": "dd2b19f2",
   "metadata": {},
   "outputs": [],
   "source": [
    "#import the libraries\n",
    "import numpy as np\n",
    "import pandas as pd\n",
    "import seaborn as sns"
   ]
  },
  {
   "cell_type": "code",
   "execution_count": null,
   "id": "069f4d6d",
   "metadata": {},
   "outputs": [],
   "source": [
    "data = pd.read_csv(\"k\")"
   ]
  }
 ],
 "metadata": {
  "kernelspec": {
   "display_name": "venv310",
   "language": "python",
   "name": "venv310"
  }
 },
 "nbformat": 4,
 "nbformat_minor": 5
}
