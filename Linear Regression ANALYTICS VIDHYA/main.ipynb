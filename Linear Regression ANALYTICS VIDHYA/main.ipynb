{
 "cells": [
  {
   "cell_type": "code",
   "execution_count": 52,
   "id": "e80c01a2",
   "metadata": {},
   "outputs": [],
   "source": [
    "#importing required libraries\n",
    "import pandas as pd\n",
    "import numpy as np\n",
    "import math\n",
    "from sklearn.linear_model import LinearRegression\n",
    "#from sklearn.metrics import mean_squared_error, r2_score\n",
    "from sklearn import metrics\n",
    "import matplotlib.pyplot as plt"
   ]
  },
  {
   "cell_type": "code",
   "execution_count": 53,
   "id": "5109a28e",
   "metadata": {},
   "outputs": [],
   "source": [
    "#read the train and test dataset\n",
    "train_data = pd.read_csv('train.csv')\n",
    "test_data = pd.read_csv('test.csv')"
   ]
  },
  {
   "cell_type": "markdown",
   "id": "969a38a9",
   "metadata": {},
   "source": [
    "## Evaluation of the model\n",
    "In this step, we will evaluate the model by using the standard metrics available in sklearn.metrics. The quality of our model shows how well its predictions match up against actual values. We will assess how well the model performs against the test data using a set of standard metrics that we have previously introduced."
   ]
  },
  {
   "cell_type": "code",
   "execution_count": 67,
   "id": "edaee5bd",
   "metadata": {},
   "outputs": [],
   "source": [
    "def model_evalution(y_actual, y_predict):\n",
    "    if isinstance(y_actual, np.ndarray):\n",
    "        mae = np.abs(np.subtract(y_actual, y_predict)).mean()\n",
    "        mse = np.square(np.subtract(y_actual, y_predict)).mean()\n",
    "        rmse = math.sqrt(mse)\n",
    "        y_mean = y_actual.mean()\n",
    "        r2 = 1 - np.sum(np.square(np.subtract(y_actual, y_predict)))/np.sum(np.square(np.subtract(y_actual, y_mean)))\n",
    "    else:\n",
    "        mae = metrics.mean_absolute_error(y_actual, y_predict)\n",
    "        mse = metrics.mean_squared_error(y_actual, y_predict)\n",
    "        rmse = mse**0.5\n",
    "        r2 = metrics.r2_score(y_actual, y_predict)\n",
    "    return mae, mse, rmse, r2"
   ]
  },
  {
   "cell_type": "code",
   "execution_count": 4,
   "id": "90903cfb",
   "metadata": {},
   "outputs": [
    {
     "data": {
      "text/html": [
       "<div>\n",
       "<style scoped>\n",
       "    .dataframe tbody tr th:only-of-type {\n",
       "        vertical-align: middle;\n",
       "    }\n",
       "\n",
       "    .dataframe tbody tr th {\n",
       "        vertical-align: top;\n",
       "    }\n",
       "\n",
       "    .dataframe thead th {\n",
       "        text-align: right;\n",
       "    }\n",
       "</style>\n",
       "<table border=\"1\" class=\"dataframe\">\n",
       "  <thead>\n",
       "    <tr style=\"text-align: right;\">\n",
       "      <th></th>\n",
       "      <th>Item_Weight</th>\n",
       "      <th>Item_Visibility</th>\n",
       "      <th>Item_MRP</th>\n",
       "      <th>Outlet_Establishment_Year</th>\n",
       "      <th>Item_Outlet_Sales</th>\n",
       "      <th>Item_Fat_Content_LF</th>\n",
       "      <th>Item_Fat_Content_Low Fat</th>\n",
       "      <th>Item_Fat_Content_Regular</th>\n",
       "      <th>Item_Fat_Content_low fat</th>\n",
       "      <th>Item_Fat_Content_reg</th>\n",
       "      <th>...</th>\n",
       "      <th>Outlet_Size_High</th>\n",
       "      <th>Outlet_Size_Medium</th>\n",
       "      <th>Outlet_Size_Small</th>\n",
       "      <th>Outlet_Location_Type_Tier 1</th>\n",
       "      <th>Outlet_Location_Type_Tier 2</th>\n",
       "      <th>Outlet_Location_Type_Tier 3</th>\n",
       "      <th>Outlet_Type_Grocery Store</th>\n",
       "      <th>Outlet_Type_Supermarket Type1</th>\n",
       "      <th>Outlet_Type_Supermarket Type2</th>\n",
       "      <th>Outlet_Type_Supermarket Type3</th>\n",
       "    </tr>\n",
       "  </thead>\n",
       "  <tbody>\n",
       "    <tr>\n",
       "      <th>0</th>\n",
       "      <td>6.800000</td>\n",
       "      <td>0.037490</td>\n",
       "      <td>48.6034</td>\n",
       "      <td>2004</td>\n",
       "      <td>291.6204</td>\n",
       "      <td>0</td>\n",
       "      <td>1</td>\n",
       "      <td>0</td>\n",
       "      <td>0</td>\n",
       "      <td>0</td>\n",
       "      <td>...</td>\n",
       "      <td>0</td>\n",
       "      <td>0</td>\n",
       "      <td>1</td>\n",
       "      <td>0</td>\n",
       "      <td>1</td>\n",
       "      <td>0</td>\n",
       "      <td>0</td>\n",
       "      <td>1</td>\n",
       "      <td>0</td>\n",
       "      <td>0</td>\n",
       "    </tr>\n",
       "    <tr>\n",
       "      <th>1</th>\n",
       "      <td>15.600000</td>\n",
       "      <td>0.172597</td>\n",
       "      <td>114.8518</td>\n",
       "      <td>1997</td>\n",
       "      <td>2163.1842</td>\n",
       "      <td>0</td>\n",
       "      <td>1</td>\n",
       "      <td>0</td>\n",
       "      <td>0</td>\n",
       "      <td>0</td>\n",
       "      <td>...</td>\n",
       "      <td>0</td>\n",
       "      <td>0</td>\n",
       "      <td>1</td>\n",
       "      <td>1</td>\n",
       "      <td>0</td>\n",
       "      <td>0</td>\n",
       "      <td>0</td>\n",
       "      <td>1</td>\n",
       "      <td>0</td>\n",
       "      <td>0</td>\n",
       "    </tr>\n",
       "    <tr>\n",
       "      <th>2</th>\n",
       "      <td>12.911575</td>\n",
       "      <td>0.054721</td>\n",
       "      <td>107.8254</td>\n",
       "      <td>1985</td>\n",
       "      <td>2387.5588</td>\n",
       "      <td>0</td>\n",
       "      <td>1</td>\n",
       "      <td>0</td>\n",
       "      <td>0</td>\n",
       "      <td>0</td>\n",
       "      <td>...</td>\n",
       "      <td>0</td>\n",
       "      <td>1</td>\n",
       "      <td>0</td>\n",
       "      <td>0</td>\n",
       "      <td>0</td>\n",
       "      <td>1</td>\n",
       "      <td>0</td>\n",
       "      <td>0</td>\n",
       "      <td>0</td>\n",
       "      <td>1</td>\n",
       "    </tr>\n",
       "    <tr>\n",
       "      <th>3</th>\n",
       "      <td>11.800000</td>\n",
       "      <td>0.098312</td>\n",
       "      <td>81.4618</td>\n",
       "      <td>1998</td>\n",
       "      <td>161.1236</td>\n",
       "      <td>0</td>\n",
       "      <td>1</td>\n",
       "      <td>0</td>\n",
       "      <td>0</td>\n",
       "      <td>0</td>\n",
       "      <td>...</td>\n",
       "      <td>0</td>\n",
       "      <td>0</td>\n",
       "      <td>0</td>\n",
       "      <td>0</td>\n",
       "      <td>0</td>\n",
       "      <td>1</td>\n",
       "      <td>1</td>\n",
       "      <td>0</td>\n",
       "      <td>0</td>\n",
       "      <td>0</td>\n",
       "    </tr>\n",
       "    <tr>\n",
       "      <th>4</th>\n",
       "      <td>17.850000</td>\n",
       "      <td>0.046600</td>\n",
       "      <td>125.1388</td>\n",
       "      <td>2004</td>\n",
       "      <td>1981.4208</td>\n",
       "      <td>0</td>\n",
       "      <td>0</td>\n",
       "      <td>1</td>\n",
       "      <td>0</td>\n",
       "      <td>0</td>\n",
       "      <td>...</td>\n",
       "      <td>0</td>\n",
       "      <td>0</td>\n",
       "      <td>1</td>\n",
       "      <td>0</td>\n",
       "      <td>1</td>\n",
       "      <td>0</td>\n",
       "      <td>0</td>\n",
       "      <td>1</td>\n",
       "      <td>0</td>\n",
       "      <td>0</td>\n",
       "    </tr>\n",
       "  </tbody>\n",
       "</table>\n",
       "<p>5 rows × 36 columns</p>\n",
       "</div>"
      ],
      "text/plain": [
       "   Item_Weight  Item_Visibility  Item_MRP  Outlet_Establishment_Year  \\\n",
       "0     6.800000         0.037490   48.6034                       2004   \n",
       "1    15.600000         0.172597  114.8518                       1997   \n",
       "2    12.911575         0.054721  107.8254                       1985   \n",
       "3    11.800000         0.098312   81.4618                       1998   \n",
       "4    17.850000         0.046600  125.1388                       2004   \n",
       "\n",
       "   Item_Outlet_Sales  Item_Fat_Content_LF  Item_Fat_Content_Low Fat  \\\n",
       "0           291.6204                    0                         1   \n",
       "1          2163.1842                    0                         1   \n",
       "2          2387.5588                    0                         1   \n",
       "3           161.1236                    0                         1   \n",
       "4          1981.4208                    0                         0   \n",
       "\n",
       "   Item_Fat_Content_Regular  Item_Fat_Content_low fat  Item_Fat_Content_reg  \\\n",
       "0                         0                         0                     0   \n",
       "1                         0                         0                     0   \n",
       "2                         0                         0                     0   \n",
       "3                         0                         0                     0   \n",
       "4                         1                         0                     0   \n",
       "\n",
       "   ...  Outlet_Size_High  Outlet_Size_Medium  Outlet_Size_Small  \\\n",
       "0  ...                 0                   0                  1   \n",
       "1  ...                 0                   0                  1   \n",
       "2  ...                 0                   1                  0   \n",
       "3  ...                 0                   0                  0   \n",
       "4  ...                 0                   0                  1   \n",
       "\n",
       "   Outlet_Location_Type_Tier 1  Outlet_Location_Type_Tier 2  \\\n",
       "0                            0                            1   \n",
       "1                            1                            0   \n",
       "2                            0                            0   \n",
       "3                            0                            0   \n",
       "4                            0                            1   \n",
       "\n",
       "   Outlet_Location_Type_Tier 3  Outlet_Type_Grocery Store  \\\n",
       "0                            0                          0   \n",
       "1                            0                          0   \n",
       "2                            1                          0   \n",
       "3                            1                          1   \n",
       "4                            0                          0   \n",
       "\n",
       "   Outlet_Type_Supermarket Type1  Outlet_Type_Supermarket Type2  \\\n",
       "0                              1                              0   \n",
       "1                              1                              0   \n",
       "2                              0                              0   \n",
       "3                              0                              0   \n",
       "4                              1                              0   \n",
       "\n",
       "   Outlet_Type_Supermarket Type3  \n",
       "0                              0  \n",
       "1                              0  \n",
       "2                              1  \n",
       "3                              0  \n",
       "4                              0  \n",
       "\n",
       "[5 rows x 36 columns]"
      ]
     },
     "execution_count": 4,
     "metadata": {},
     "output_type": "execute_result"
    }
   ],
   "source": [
    "train_data.head()"
   ]
  },
  {
   "cell_type": "code",
   "execution_count": 5,
   "id": "703c948d",
   "metadata": {},
   "outputs": [
    {
     "name": "stdout",
     "output_type": "stream",
     "text": [
      "Shape of the training data: (1364, 36)\n",
      "Shape of the texting data: (341, 36)\n"
     ]
    }
   ],
   "source": [
    "# shape of the dataset\n",
    "print(f'Shape of the training data: {train_data.shape}')\n",
    "print(f'Shape of the texting data: {test_data.shape}')"
   ]
  },
  {
   "cell_type": "markdown",
   "id": "41264e75",
   "metadata": {},
   "source": [
    "# Train the Model"
   ]
  },
  {
   "cell_type": "code",
   "execution_count": 6,
   "id": "bef82d92",
   "metadata": {},
   "outputs": [],
   "source": [
    "# Next, we need to predict the missing target variable in the test data.\n",
    "# Target Variable = Item_Outlet_Sales\n",
    "\n",
    "#separate the independent and target variable on training data\n",
    "\n",
    "train_x = train_data.drop(columns = ['Item_Outlet_Sales'])\n",
    "train_y = train_data['Item_Outlet_Sales']"
   ]
  },
  {
   "cell_type": "code",
   "execution_count": 7,
   "id": "c9ae9657",
   "metadata": {},
   "outputs": [],
   "source": [
    "#separate the independent and target variable on testing data\n",
    "\n",
    "test_x = test_data.drop(columns = ['Item_Outlet_Sales'])\n",
    "test_y = test_data['Item_Outlet_Sales']"
   ]
  },
  {
   "cell_type": "code",
   "execution_count": 8,
   "id": "f6b8520a",
   "metadata": {},
   "outputs": [
    {
     "data": {
      "text/plain": [
       "'\\nCreate the object of the Linear Regression model\\nYou can also add other parameters and test your code here\\nSome parameters are : fit_intercept and normalize\\nDocumentation of sklearn LinearRegression: \\n\\nhttps://scikit-learn.org/stable/modules/generated/sklearn.linear_model.LinearRegression.html\\n\\n '"
      ]
     },
     "execution_count": 8,
     "metadata": {},
     "output_type": "execute_result"
    }
   ],
   "source": [
    "'''\n",
    "Create the object of the Linear Regression model\n",
    "You can also add other parameters and test your code here\n",
    "Some parameters are : fit_intercept and normalize\n",
    "Documentation of sklearn LinearRegression: \n",
    "\n",
    "https://scikit-learn.org/stable/modules/generated/sklearn.linear_model.LinearRegression.html\n",
    "\n",
    " '''"
   ]
  },
  {
   "cell_type": "code",
   "execution_count": 9,
   "id": "3e97518d",
   "metadata": {},
   "outputs": [],
   "source": [
    "model = LinearRegression()"
   ]
  },
  {
   "cell_type": "code",
   "execution_count": 10,
   "id": "8ca4976f",
   "metadata": {},
   "outputs": [
    {
     "data": {
      "text/plain": [
       "LinearRegression()"
      ]
     },
     "execution_count": 10,
     "metadata": {},
     "output_type": "execute_result"
    }
   ],
   "source": [
    "# fit the model with the training data\n",
    "model.fit(train_x, train_y)"
   ]
  },
  {
   "cell_type": "code",
   "execution_count": 11,
   "id": "aefa299f",
   "metadata": {},
   "outputs": [
    {
     "name": "stdout",
     "output_type": "stream",
     "text": [
      "Coefficient of model: [-3.84197604e+00  9.83065945e+00  1.61711856e+01  6.09197622e+01\n",
      " -8.64161561e+01  1.23593376e+02  2.34714039e+02 -2.44597425e+02\n",
      " -2.72938329e+01 -8.09611456e+00 -3.01147840e+02  1.70727611e+02\n",
      " -5.40194744e+01  7.34248834e+01  1.70313375e+00 -5.07701615e+01\n",
      "  1.63553657e+02 -5.85286125e+01  1.04913492e+02 -6.01944874e+01\n",
      "  1.98948206e+02 -1.40959023e+02  1.19426257e+02  2.66382669e+01\n",
      " -1.85619792e+02  1.43925357e+03  2.16134663e+02  3.54723990e+01\n",
      "  3.54832996e+02 -5.54559635e+00 -3.49287400e+02 -1.39202954e+03\n",
      " -2.57982359e+02 -9.59016062e+02  2.60902796e+03]\n"
     ]
    }
   ],
   "source": [
    "# coefficients of the trained model\n",
    "print(f'Coefficient of model: {model.coef_}')"
   ]
  },
  {
   "cell_type": "code",
   "execution_count": 12,
   "id": "57458af9",
   "metadata": {},
   "outputs": [
    {
     "name": "stdout",
     "output_type": "stream",
     "text": [
      "Intercept of the model: -121926.97473297725\n"
     ]
    }
   ],
   "source": [
    "# intercept of the model\n",
    "print(f'Intercept of the model: {model.intercept_}')"
   ]
  },
  {
   "cell_type": "code",
   "execution_count": 13,
   "id": "2be73cb1",
   "metadata": {},
   "outputs": [
    {
     "name": "stdout",
     "output_type": "stream",
     "text": [
      "Item_Outlet_Sales on training data: [ 803.88817641 1733.98835979 3294.52154482 ...  811.16967914 2343.96927185\n",
      " 2444.98869913]\n"
     ]
    }
   ],
   "source": [
    "# predict the target on the test dataset\n",
    "predict_train = model.predict(train_x)\n",
    "print(f'Item_Outlet_Sales on training data: {predict_train}')"
   ]
  },
  {
   "cell_type": "code",
   "execution_count": 40,
   "id": "80a19a32",
   "metadata": {},
   "outputs": [
    {
     "name": "stdout",
     "output_type": "stream",
     "text": [
      "<class 'pandas.core.series.Series'>\n",
      "The model performance for training data\n",
      "--------------------------------------\n",
      "MAE is 847.06\n",
      "MSE is 1290077.84\n",
      "RMSE is 1135.82\n",
      "R2 score is 0.5875\n"
     ]
    }
   ],
   "source": [
    "mae, mse, rmse, r2 = model_evalution(train_y, predict_train)\n",
    "print(\"The model performance for training data\")\n",
    "print(\"--------------------------------------\")\n",
    "print(f'MAE is {mae:.2f}')\n",
    "print(f'MSE is {mse:.2f}')\n",
    "print(f'RMSE is {rmse:.2f}')\n",
    "print(f'R2 score is {r2:.4f}')"
   ]
  },
  {
   "cell_type": "markdown",
   "id": "306267f6",
   "metadata": {},
   "source": [
    "# TESTING"
   ]
  },
  {
   "cell_type": "code",
   "execution_count": 15,
   "id": "86cdfb43",
   "metadata": {},
   "outputs": [],
   "source": [
    "# predict the target on the testing dataset\n",
    "predict_test = model.predict(test_x)"
   ]
  },
  {
   "cell_type": "code",
   "execution_count": 16,
   "id": "87e10579",
   "metadata": {},
   "outputs": [
    {
     "name": "stdout",
     "output_type": "stream",
     "text": [
      "The model performance for testing data\n",
      "--------------------------------------\n",
      "MAE is 751.63\n",
      "MSE is 1018589.04\n",
      "RMSE is 1009.25\n",
      "R2 score is 0.5592\n"
     ]
    }
   ],
   "source": [
    "mae, mse, rmse, r2 = model_evalution(test_y, predict_test)\n",
    "print(\"The model performance for testing data\")\n",
    "print(\"--------------------------------------\")\n",
    "print(f'MAE is {mae:.2f}')\n",
    "print(f'MSE is {mse:.2f}')\n",
    "print(f'RMSE is {rmse:.2f}')\n",
    "print(f'R2 score is {r2:.4f}')"
   ]
  },
  {
   "cell_type": "code",
   "execution_count": 48,
   "id": "62457b78",
   "metadata": {},
   "outputs": [
    {
     "data": {
      "image/png": "[encoded data removed]",
      "text/plain": [
       "<Figure size 432x288 with 1 Axes>"
      ]
     },
     "metadata": {
      "needs_background": "light"
     },
     "output_type": "display_data"
    }
   ],
   "source": [
    "fig, ax = plt.subplots()\n",
    "ax.scatter(predict_test, test_y, edgecolors=(0, 0, 1))\n",
    "ax.plot([test_y.min(), test_y.max()], [test_y.min(), test_y.max()], 'r--', lw=3)\n",
    "ax.set_xlabel('Predicted')\n",
    "ax.set_ylabel('Actual')\n",
    "plt.show()"
   ]
  },
  {
   "cell_type": "markdown",
   "id": "79a84c24",
   "metadata": {},
   "source": [
    "# NUMPY ARRAY and Normalisation\n",
    "\n",
    "The most common function type you’ll use in this stage are standardizing functions, namely the MinMax and Standard functions. This is because features in your data will vary in range. However, nearly all ML algorithms use Euclidean distance to measure the distance between two data points."
   ]
  },
  {
   "cell_type": "code",
   "execution_count": 110,
   "id": "71810876",
   "metadata": {},
   "outputs": [],
   "source": [
    "# TRAIN\n",
    "train_matrix = np.array(train_data)"
   ]
  },
  {
   "cell_type": "code",
   "execution_count": 111,
   "id": "df30ac55",
   "metadata": {},
   "outputs": [],
   "source": [
    "X = train_matrix[:,:-2]\n",
    "y = train_matrix[:,-1]"
   ]
  },
  {
   "cell_type": "code",
   "execution_count": 102,
   "id": "972512cf",
   "metadata": {},
   "outputs": [
    {
     "data": {
      "text/plain": [
       "(1364, 34)"
      ]
     },
     "execution_count": 102,
     "metadata": {},
     "output_type": "execute_result"
    }
   ],
   "source": [
    "# Normalising using the MinMax\n",
    "#X = (X -np.min(X))/(np.max(X) - np.min(X)) \n",
    "\n",
    "\"\"\"# or\n",
    "import sklearn.preprocessing as preprocessing\n",
    "minmax = preprocessing.MinMaxScaler()\n",
    "# X is a matrix with float type\n",
    "minmax.fit(X)\n",
    "X = minmax.transform(X)\"\"\"\n",
    "\n",
    "# Normalising using the Max\n",
    "X = X/(np.max(X)) \n",
    "\n",
    "\n",
    "X_minmax.shape"
   ]
  },
  {
   "cell_type": "code",
   "execution_count": 112,
   "id": "737b9037",
   "metadata": {},
   "outputs": [
    {
     "data": {
      "text/plain": [
       "LinearRegression()"
      ]
     },
     "execution_count": 112,
     "metadata": {},
     "output_type": "execute_result"
    }
   ],
   "source": [
    "# fit the model with the training data\n",
    "model = LinearRegression()\n",
    "model.fit(X, y)"
   ]
  },
  {
   "cell_type": "code",
   "execution_count": 113,
   "id": "c48534f0",
   "metadata": {},
   "outputs": [],
   "source": [
    "predict_train_n = model.predict(X)"
   ]
  },
  {
   "cell_type": "code",
   "execution_count": 114,
   "id": "68f8ce60",
   "metadata": {},
   "outputs": [
    {
     "name": "stdout",
     "output_type": "stream",
     "text": [
      "The model performance for normalised training data\n",
      "---------------------------------------------------\n",
      "MAE is 0.0289\n",
      "MSE is 0.0021\n",
      "RMSE is 0.0460\n",
      "R2 score is 97.71%\n"
     ]
    }
   ],
   "source": [
    "mae, mse, rmse, r2 = model_evalution(y, predict_train_n)\n",
    "print(\"The model performance for normalised training data\")\n",
    "print(\"---------------------------------------------------\")\n",
    "print(f'MAE is {mae:.4f}')\n",
    "print(f'MSE is {mse:.4f}')\n",
    "print(f'RMSE is {rmse:.4f}')\n",
    "print(f'R2 score is {r2:.2%}')"
   ]
  },
  {
   "cell_type": "code",
   "execution_count": 80,
   "id": "4d2f987d",
   "metadata": {},
   "outputs": [],
   "source": [
    "# TEST\n",
    "test_matrix = np.array(test_data)\n",
    "X = test_matrix[:,:-2]\n",
    "y = test_matrix[:,-1]\n",
    "X = X/(np.max(X)) "
   ]
  },
  {
   "cell_type": "code",
   "execution_count": 81,
   "id": "9248a18e",
   "metadata": {},
   "outputs": [
    {
     "data": {
      "text/plain": [
       "array([[2.53405490e-03, 3.15374934e-06, 1.33016042e-02, ...,\n",
       "        0.00000000e+00, 0.00000000e+00, 1.40003033e-04],\n",
       "       [9.26120063e-04, 1.31007515e-05, 2.79225689e-02, ...,\n",
       "        0.00000000e+00, 0.00000000e+00, 1.40003033e-04],\n",
       "       [1.65903594e-03, 7.02629386e-06, 2.29818619e-02, ...,\n",
       "        0.00000000e+00, 0.00000000e+00, 1.40003033e-04],\n",
       "       ...,\n",
       "       [1.80765960e-03, 3.36462065e-06, 1.74965990e-02, ...,\n",
       "        1.40003033e-04, 0.00000000e+00, 0.00000000e+00],\n",
       "       [1.42733092e-03, 1.76940165e-05, 1.57067443e-02, ...,\n",
       "        0.00000000e+00, 0.00000000e+00, 1.40003033e-04],\n",
       "       [2.05804459e-03, 1.01632224e-05, 6.79062311e-03, ...,\n",
       "        1.40003033e-04, 0.00000000e+00, 0.00000000e+00]])"
      ]
     },
     "execution_count": 81,
     "metadata": {},
     "output_type": "execute_result"
    }
   ],
   "source": [
    "X"
   ]
  },
  {
   "cell_type": "code",
   "execution_count": 82,
   "id": "95009523",
   "metadata": {},
   "outputs": [],
   "source": [
    "predict_test_n = model.predict(X)"
   ]
  },
  {
   "cell_type": "code",
   "execution_count": 83,
   "id": "0c54eda3",
   "metadata": {},
   "outputs": [
    {
     "name": "stdout",
     "output_type": "stream",
     "text": [
      "The model performance for normalised testing data\n",
      "---------------------------------------------------\n",
      "MAE is 65.5067\n",
      "MSE is 4291.1971\n",
      "RMSE is 65.5072\n",
      "R2 score is -4333621.50%\n"
     ]
    }
   ],
   "source": [
    "mae, mse, rmse, r2 = model_evalution(y, predict_test_n)\n",
    "print(\"The model performance for normalised testing data\")\n",
    "print(\"---------------------------------------------------\")\n",
    "print(f'MAE is {mae:.4f}')\n",
    "print(f'MSE is {mse:.4f}')\n",
    "print(f'RMSE is {rmse:.4f}')\n",
    "print(f'R2 score is {r2:.2%}')"
   ]
  },
  {
   "cell_type": "markdown",
   "id": "cbf86f59",
   "metadata": {},
   "source": [
    "# Using Cross Validation -  KFOLD"
   ]
  },
  {
   "cell_type": "code",
   "execution_count": 84,
   "id": "b5a61b2b",
   "metadata": {},
   "outputs": [],
   "source": [
    "from sklearn import model_selection"
   ]
  },
  {
   "cell_type": "code",
   "execution_count": 85,
   "id": "ad342c74",
   "metadata": {},
   "outputs": [],
   "source": [
    "kfold = model_selection.KFold(n_splits=10, random_state=7, shuffle=True)"
   ]
  },
  {
   "cell_type": "code",
   "execution_count": 86,
   "id": "9c9cd02f",
   "metadata": {},
   "outputs": [
    {
     "name": "stdout",
     "output_type": "stream",
     "text": [
      "MAE: -0.035 (0.006)\n"
     ]
    }
   ],
   "source": [
    "model = LinearRegression()\n",
    "scoring = 'neg_mean_absolute_error'\n",
    "results = model_selection.cross_val_score(model, X, y, cv=kfold, scoring=scoring)\n",
    "print(\"MAE: %.3f (%.3f)\" % (results.mean(), results.std()))"
   ]
  },
  {
   "cell_type": "code",
   "execution_count": 87,
   "id": "e6528b58",
   "metadata": {},
   "outputs": [
    {
     "name": "stdout",
     "output_type": "stream",
     "text": [
      "MSE: -0.003 (0.001)\n"
     ]
    }
   ],
   "source": [
    "scoring = 'neg_mean_squared_error'\n",
    "results = model_selection.cross_val_score(model, X, y, cv=kfold, scoring=scoring)\n",
    "print(\"MSE: %.3f (%.3f)\" % (results.mean(), results.std()))"
   ]
  },
  {
   "cell_type": "code",
   "execution_count": 88,
   "id": "a40bad45",
   "metadata": {},
   "outputs": [
    {
     "name": "stdout",
     "output_type": "stream",
     "text": [
      "R^2: 0.957 (0.038)\n"
     ]
    }
   ],
   "source": [
    "scoring = 'r2'\n",
    "results = model_selection.cross_val_score(model, X, y, cv=kfold, scoring=scoring)\n",
    "print(\"R^2: %.3f (%.3f)\" % (results.mean(), results.std()))"
   ]
  },
  {
   "cell_type": "code",
   "execution_count": null,
   "id": "232e6208",
   "metadata": {},
   "outputs": [],
   "source": []
  }
 ],
 "metadata": {
  "kernelspec": {
   "display_name": "venv310",
   "language": "python",
   "name": "venv310"
  },
  "language_info": {
   "codemirror_mode": {
    "name": "ipython",
    "version": 3
   },
   "file_extension": ".py",
   "mimetype": "text/x-python",
   "name": "python",
   "nbconvert_exporter": "python",
   "pygments_lexer": "ipython3",
   "version": "3.10.0"
  }
 },
 "nbformat": 4,
 "nbformat_minor": 5
}
